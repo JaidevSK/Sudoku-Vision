{
 "cells": [
  {
   "cell_type": "code",
   "execution_count": null,
   "metadata": {},
   "outputs": [],
   "source": []
  },
  {
   "cell_type": "code",
   "execution_count": 9,
   "metadata": {},
   "outputs": [],
   "source": [
    "from obt import solve_sudoku\n",
    "import numpy as np"
   ]
  },
  {
   "cell_type": "code",
   "execution_count": 22,
   "metadata": {},
   "outputs": [],
   "source": [
    "easy_path = \"/Users/vannshjani/Desktop/FAI/easy_sudokus.txt\"\n",
    "medium_path = \"/Users/vannshjani/Desktop/FAI/medium_sudokus.txt\"\n",
    "hard_path = \"/Users/vannshjani/Desktop/FAI/hard_sudokus.txt\"\n",
    "\n",
    "sudokus_hard = []\n",
    "\n",
    "with open(hard_path, \"r\") as file:\n",
    "    \n",
    "    data = file.readlines()\n",
    "    for i in range(len(data)):\n",
    "        sudoku_i = data[i]\n",
    "        # convert to 3x3 np array\n",
    "        sudoku_list = []\n",
    "        for i in range(9):\n",
    "            sudoku_list.append(list(sudoku_i[i*9:i*9+9]))\n",
    "        for i in range(9):\n",
    "            sudoku_list[i] = list(map(int, sudoku_list[i]))\n",
    "        sudoku_list = np.array(sudoku_list)\n",
    "        sudokus_hard.append(sudoku_list)\n"
   ]
  },
  {
   "cell_type": "code",
   "execution_count": 23,
   "metadata": {},
   "outputs": [
    {
     "data": {
      "text/plain": [
       "(267, 360, 873)"
      ]
     },
     "execution_count": 23,
     "metadata": {},
     "output_type": "execute_result"
    }
   ],
   "source": [
    "len(sudokus_hard),len(sudokus_easy),len(sudokus_medium)"
   ]
  },
  {
   "cell_type": "code",
   "execution_count": null,
   "metadata": {},
   "outputs": [],
   "source": [
    "# Function for a Sudoku Solver using backtracking algorithm that takes in an array of 9x9 integers and returns a 9x9 array of integers\n",
    "\n",
    "def SolveSudoku_BT(board):\n",
    "    \"\"\"\n",
    "    Takes in a 9x9 array of integers of Unsolved Sudoku Puzzle and returns a 9x9 array of integers of Solved Sudoku Puzzle\n",
    "\n",
    "    Parameters:\n",
    "    board (list): A 9x9 array of integers where 0 represents an empty cell\n",
    "\n",
    "    Returns:\n",
    "    list: A 9x9 array of integers where each row and column of the 9x9 array contains all integers from 1 to 9 without repetition\n",
    "    \"\"\"\n",
    "    def is_valid(row, col, num):\n",
    "        \"\"\"\n",
    "        Checks if the number is valid to be placed in the cell\n",
    "        \n",
    "        Parameters:\n",
    "        row (int): The row index of the cell\n",
    "        col (int): The column index of the cell\n",
    "        num (int): The number to be placed in the cell\n",
    "        \n",
    "        Returns:\n",
    "        bool: True if the number is valid to be placed in the cell, False otherwise\n",
    "        \"\"\"\n",
    "\n",
    "        for i in range(9):\n",
    "            if board[row][i] == num or board[i][col] == num:\n",
    "                return False\n",
    "        start_row, start_col = 3 * (row // 3), 3 * (col // 3)\n",
    "        for i in range(3):\n",
    "            for j in range(3):\n",
    "                if board[i + start_row][j + start_col] == num:\n",
    "                    return False\n",
    "        return True\n",
    "\n",
    "    def solve():\n",
    "        \"\"\"\n",
    "        Solves the Sudoku Puzzle using backtracking algorithm\n",
    "\n",
    "        Returns:\n",
    "        bool: True if the Sudoku Puzzle is solved, False otherwise\n",
    "        \"\"\"\n",
    "        for i in range(9):\n",
    "            for j in range(9):\n",
    "                if board[i][j] == 0:\n",
    "                    for num in range(1, 10):\n",
    "                        if is_valid(i, j, num):\n",
    "                            board[i][j] = num\n",
    "                            if solve():\n",
    "                                return True\n",
    "                            board[i][j] = 0\n",
    "                    return False\n",
    "        return True\n",
    "\n",
    "    solve()\n",
    "    return board"
   ]
  }
 ],
 "metadata": {
  "kernelspec": {
   "display_name": "opencv_env",
   "language": "python",
   "name": "python3"
  },
  "language_info": {
   "codemirror_mode": {
    "name": "ipython",
    "version": 3
   },
   "file_extension": ".py",
   "mimetype": "text/x-python",
   "name": "python",
   "nbconvert_exporter": "python",
   "pygments_lexer": "ipython3",
   "version": "3.12.2"
  }
 },
 "nbformat": 4,
 "nbformat_minor": 2
}
