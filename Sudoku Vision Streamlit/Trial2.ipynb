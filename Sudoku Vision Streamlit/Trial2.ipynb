{
 "cells": [
  {
   "cell_type": "code",
   "execution_count": 1,
   "metadata": {},
   "outputs": [
    {
     "name": "stderr",
     "output_type": "stream",
     "text": [
      "c:\\Users\\jaide\\anaconda3\\envs\\mnist\\Lib\\site-packages\\keras\\src\\saving\\saving_lib.py:576: UserWarning: Skipping variable loading for optimizer 'rmsprop', because it has 12 variables whereas the saved optimizer has 22 variables. \n",
      "  saveable.load_own_variables(weights_store.get(inner_path))\n"
     ]
    }
   ],
   "source": [
    "from PIL import Image\n",
    "import numpy as np\n",
    "import Img2Arr\n",
    "import SolveSudoku_OS as SolveSudoku\n",
    "\n"
   ]
  },
  {
   "cell_type": "code",
   "execution_count": 2,
   "metadata": {},
   "outputs": [
    {
     "name": "stdout",
     "output_type": "stream",
     "text": [
      "\u001b[1m1/1\u001b[0m \u001b[32m━━━━━━━━━━━━━━━━━━━━\u001b[0m\u001b[37m\u001b[0m \u001b[1m0s\u001b[0m 481ms/step\n",
      "\u001b[1m1/1\u001b[0m \u001b[32m━━━━━━━━━━━━━━━━━━━━\u001b[0m\u001b[37m\u001b[0m \u001b[1m0s\u001b[0m 25ms/step\n",
      "\u001b[1m1/1\u001b[0m \u001b[32m━━━━━━━━━━━━━━━━━━━━\u001b[0m\u001b[37m\u001b[0m \u001b[1m0s\u001b[0m 25ms/step\n",
      "\u001b[1m1/1\u001b[0m \u001b[32m━━━━━━━━━━━━━━━━━━━━\u001b[0m\u001b[37m\u001b[0m \u001b[1m0s\u001b[0m 24ms/step\n",
      "\u001b[1m1/1\u001b[0m \u001b[32m━━━━━━━━━━━━━━━━━━━━\u001b[0m\u001b[37m\u001b[0m \u001b[1m0s\u001b[0m 23ms/step\n",
      "\u001b[1m1/1\u001b[0m \u001b[32m━━━━━━━━━━━━━━━━━━━━\u001b[0m\u001b[37m\u001b[0m \u001b[1m0s\u001b[0m 25ms/step\n",
      "\u001b[1m1/1\u001b[0m \u001b[32m━━━━━━━━━━━━━━━━━━━━\u001b[0m\u001b[37m\u001b[0m \u001b[1m0s\u001b[0m 24ms/step\n",
      "\u001b[1m1/1\u001b[0m \u001b[32m━━━━━━━━━━━━━━━━━━━━\u001b[0m\u001b[37m\u001b[0m \u001b[1m0s\u001b[0m 22ms/step\n",
      "\u001b[1m1/1\u001b[0m \u001b[32m━━━━━━━━━━━━━━━━━━━━\u001b[0m\u001b[37m\u001b[0m \u001b[1m0s\u001b[0m 22ms/step\n",
      "\u001b[1m1/1\u001b[0m \u001b[32m━━━━━━━━━━━━━━━━━━━━\u001b[0m\u001b[37m\u001b[0m \u001b[1m0s\u001b[0m 23ms/step\n",
      "\u001b[1m1/1\u001b[0m \u001b[32m━━━━━━━━━━━━━━━━━━━━\u001b[0m\u001b[37m\u001b[0m \u001b[1m0s\u001b[0m 23ms/step\n",
      "\u001b[1m1/1\u001b[0m \u001b[32m━━━━━━━━━━━━━━━━━━━━\u001b[0m\u001b[37m\u001b[0m \u001b[1m0s\u001b[0m 23ms/step\n",
      "\u001b[1m1/1\u001b[0m \u001b[32m━━━━━━━━━━━━━━━━━━━━\u001b[0m\u001b[37m\u001b[0m \u001b[1m0s\u001b[0m 21ms/step\n",
      "\u001b[1m1/1\u001b[0m \u001b[32m━━━━━━━━━━━━━━━━━━━━\u001b[0m\u001b[37m\u001b[0m \u001b[1m0s\u001b[0m 23ms/step\n",
      "\u001b[1m1/1\u001b[0m \u001b[32m━━━━━━━━━━━━━━━━━━━━\u001b[0m\u001b[37m\u001b[0m \u001b[1m0s\u001b[0m 23ms/step\n",
      "\u001b[1m1/1\u001b[0m \u001b[32m━━━━━━━━━━━━━━━━━━━━\u001b[0m\u001b[37m\u001b[0m \u001b[1m0s\u001b[0m 21ms/step\n",
      "\u001b[1m1/1\u001b[0m \u001b[32m━━━━━━━━━━━━━━━━━━━━\u001b[0m\u001b[37m\u001b[0m \u001b[1m0s\u001b[0m 22ms/step\n",
      "\u001b[1m1/1\u001b[0m \u001b[32m━━━━━━━━━━━━━━━━━━━━\u001b[0m\u001b[37m\u001b[0m \u001b[1m0s\u001b[0m 23ms/step\n",
      "\u001b[1m1/1\u001b[0m \u001b[32m━━━━━━━━━━━━━━━━━━━━\u001b[0m\u001b[37m\u001b[0m \u001b[1m0s\u001b[0m 22ms/step\n",
      "\u001b[1m1/1\u001b[0m \u001b[32m━━━━━━━━━━━━━━━━━━━━\u001b[0m\u001b[37m\u001b[0m \u001b[1m0s\u001b[0m 22ms/step\n",
      "\u001b[1m1/1\u001b[0m \u001b[32m━━━━━━━━━━━━━━━━━━━━\u001b[0m\u001b[37m\u001b[0m \u001b[1m0s\u001b[0m 30ms/step\n",
      "\u001b[1m1/1\u001b[0m \u001b[32m━━━━━━━━━━━━━━━━━━━━\u001b[0m\u001b[37m\u001b[0m \u001b[1m0s\u001b[0m 23ms/step\n",
      "\u001b[1m1/1\u001b[0m \u001b[32m━━━━━━━━━━━━━━━━━━━━\u001b[0m\u001b[37m\u001b[0m \u001b[1m0s\u001b[0m 26ms/step\n",
      "\u001b[1m1/1\u001b[0m \u001b[32m━━━━━━━━━━━━━━━━━━━━\u001b[0m\u001b[37m\u001b[0m \u001b[1m0s\u001b[0m 24ms/step\n",
      "\u001b[1m1/1\u001b[0m \u001b[32m━━━━━━━━━━━━━━━━━━━━\u001b[0m\u001b[37m\u001b[0m \u001b[1m0s\u001b[0m 22ms/step\n",
      "\u001b[1m1/1\u001b[0m \u001b[32m━━━━━━━━━━━━━━━━━━━━\u001b[0m\u001b[37m\u001b[0m \u001b[1m0s\u001b[0m 22ms/step\n",
      "\u001b[1m1/1\u001b[0m \u001b[32m━━━━━━━━━━━━━━━━━━━━\u001b[0m\u001b[37m\u001b[0m \u001b[1m0s\u001b[0m 22ms/step\n",
      "\u001b[1m1/1\u001b[0m \u001b[32m━━━━━━━━━━━━━━━━━━━━\u001b[0m\u001b[37m\u001b[0m \u001b[1m0s\u001b[0m 22ms/step\n",
      "\u001b[1m1/1\u001b[0m \u001b[32m━━━━━━━━━━━━━━━━━━━━\u001b[0m\u001b[37m\u001b[0m \u001b[1m0s\u001b[0m 23ms/step\n",
      "\u001b[1m1/1\u001b[0m \u001b[32m━━━━━━━━━━━━━━━━━━━━\u001b[0m\u001b[37m\u001b[0m \u001b[1m0s\u001b[0m 26ms/step\n"
     ]
    }
   ],
   "source": [
    "img = Image.open(\"sudoku1.jpg\")\n",
    "img_arr = np.array(img)\n",
    "sudarr = Img2Arr.img2arr(img_arr)\n",
    "retarr = SolveSudoku.SolveSudoku(sudarr)"
   ]
  },
  {
   "cell_type": "code",
   "execution_count": 3,
   "metadata": {},
   "outputs": [
    {
     "name": "stdout",
     "output_type": "stream",
     "text": [
      "[[4, 9, 8, 1, 6, 7, 5, 3, 2], [2, 5, 1, 4, 3, 8, 6, 7, 9], [6, 3, 7, 9, 2, 5, 8, 4, 1], [3, 7, 2, 5, 9, 6, 4, 1, 8], [9, 8, 4, 7, 1, 2, 3, 6, 5], [5, 1, 6, 8, 4, 3, 2, 9, 7], [8, 2, 9, 6, 7, 4, 1, 5, 3], [1, 4, 3, 2, 5, 9, 7, 8, 6], [7, 6, 5, 3, 8, 1, 9, 2, 4]]\n"
     ]
    }
   ],
   "source": [
    "print(retarr)"
   ]
  },
  {
   "cell_type": "code",
   "execution_count": 4,
   "metadata": {},
   "outputs": [],
   "source": [
    "def get_constraints(grid):\n",
    "    \"\"\"\n",
    "    Get the constraints for each cell in the grid\n",
    "    \n",
    "    Parameters:\n",
    "    grid (list): A 9x9 array of integers\n",
    "    \n",
    "    Returns:\n",
    "    dict: A dictionary containing the constraints for each cell\n",
    "    \"\"\"\n",
    "    constraints = {}\n",
    "    for row in range(9):\n",
    "        for col in range(9):\n",
    "            if grid[row][col] == 0:\n",
    "                allowed_values = set(range(1, 10))\n",
    "                for x in range(9):\n",
    "                    if grid[row][x] in allowed_values:\n",
    "                        allowed_values.remove(grid[row][x])\n",
    "                    if grid[x][col] in allowed_values:\n",
    "                        allowed_values.remove(grid[x][col])\n",
    "                start_row, start_col = 3 * (row // 3), 3 * (col // 3)\n",
    "                for i in range(3):\n",
    "                    for j in range(3):\n",
    "                        if grid[start_row + i][start_col + j] in allowed_values:\n",
    "                            allowed_values.remove(grid[start_row + i][start_col + j])\n",
    "                constraints[(row, col)] = allowed_values\n",
    "    return constraints\n",
    "\n",
    "def forward_checking(grid, constraints, iterations):\n",
    "    \"\"\"\n",
    "    Assigns values to the cells in the grid using forward checking\n",
    "\n",
    "    Parameters:\n",
    "    grid (list): A 9x9 array of integers\n",
    "    constraints (dict): A dictionary containing the constraints for each cell\n",
    "    iterations (int): The number of iterations to run forward checking\n",
    "    \"\"\"\n",
    "    def assign_value(row, col, num):\n",
    "        grid[row][col] = num\n",
    "        for x in range(9):\n",
    "            if (row, x) in constraints:\n",
    "                constraints[(row, x)].discard(num)\n",
    "            if (x, col) in constraints:\n",
    "                constraints[(x, col)].discard(num)\n",
    "        start_row, start_col = 3 * (row // 3), 3 * (col // 3)\n",
    "        for i in range(3):\n",
    "            for j in range(3):\n",
    "                if (start_row + i, start_col + j) in constraints:\n",
    "                    constraints[(start_row + i, start_col + j)].discard(num)\n",
    "\n",
    "    for _ in range(iterations):\n",
    "        if not constraints:\n",
    "            break\n",
    "        min_cell = min(constraints, key=lambda k: len(constraints[k]))\n",
    "        if len(constraints[min_cell]) == 0:\n",
    "            break\n",
    "        num = constraints[min_cell].pop()\n",
    "        # print(f\"Assigning {num} to cell {min_cell} with {len(constraints[min_cell])} remaining values\")\n",
    "        assign_value(min_cell[0], min_cell[1], num)\n",
    "        del constraints[min_cell]\n",
    "\n",
    "    return grid"
   ]
  },
  {
   "cell_type": "code",
   "execution_count": 5,
   "metadata": {},
   "outputs": [
    {
     "name": "stdout",
     "output_type": "stream",
     "text": [
      "\u001b[1m1/1\u001b[0m \u001b[32m━━━━━━━━━━━━━━━━━━━━\u001b[0m\u001b[37m\u001b[0m \u001b[1m0s\u001b[0m 24ms/step\n",
      "\u001b[1m1/1\u001b[0m \u001b[32m━━━━━━━━━━━━━━━━━━━━\u001b[0m\u001b[37m\u001b[0m \u001b[1m0s\u001b[0m 28ms/step\n",
      "\u001b[1m1/1\u001b[0m \u001b[32m━━━━━━━━━━━━━━━━━━━━\u001b[0m\u001b[37m\u001b[0m \u001b[1m0s\u001b[0m 25ms/step\n",
      "\u001b[1m1/1\u001b[0m \u001b[32m━━━━━━━━━━━━━━━━━━━━\u001b[0m\u001b[37m\u001b[0m \u001b[1m0s\u001b[0m 24ms/step\n",
      "\u001b[1m1/1\u001b[0m \u001b[32m━━━━━━━━━━━━━━━━━━━━\u001b[0m\u001b[37m\u001b[0m \u001b[1m0s\u001b[0m 27ms/step\n",
      "\u001b[1m1/1\u001b[0m \u001b[32m━━━━━━━━━━━━━━━━━━━━\u001b[0m\u001b[37m\u001b[0m \u001b[1m0s\u001b[0m 23ms/step\n",
      "\u001b[1m1/1\u001b[0m \u001b[32m━━━━━━━━━━━━━━━━━━━━\u001b[0m\u001b[37m\u001b[0m \u001b[1m0s\u001b[0m 23ms/step\n",
      "\u001b[1m1/1\u001b[0m \u001b[32m━━━━━━━━━━━━━━━━━━━━\u001b[0m\u001b[37m\u001b[0m \u001b[1m0s\u001b[0m 24ms/step\n",
      "\u001b[1m1/1\u001b[0m \u001b[32m━━━━━━━━━━━━━━━━━━━━\u001b[0m\u001b[37m\u001b[0m \u001b[1m0s\u001b[0m 39ms/step\n",
      "\u001b[1m1/1\u001b[0m \u001b[32m━━━━━━━━━━━━━━━━━━━━\u001b[0m\u001b[37m\u001b[0m \u001b[1m0s\u001b[0m 37ms/step\n",
      "\u001b[1m1/1\u001b[0m \u001b[32m━━━━━━━━━━━━━━━━━━━━\u001b[0m\u001b[37m\u001b[0m \u001b[1m0s\u001b[0m 26ms/step\n",
      "\u001b[1m1/1\u001b[0m \u001b[32m━━━━━━━━━━━━━━━━━━━━\u001b[0m\u001b[37m\u001b[0m \u001b[1m0s\u001b[0m 24ms/step\n",
      "\u001b[1m1/1\u001b[0m \u001b[32m━━━━━━━━━━━━━━━━━━━━\u001b[0m\u001b[37m\u001b[0m \u001b[1m0s\u001b[0m 26ms/step\n",
      "\u001b[1m1/1\u001b[0m \u001b[32m━━━━━━━━━━━━━━━━━━━━\u001b[0m\u001b[37m\u001b[0m \u001b[1m0s\u001b[0m 32ms/step\n",
      "\u001b[1m1/1\u001b[0m \u001b[32m━━━━━━━━━━━━━━━━━━━━\u001b[0m\u001b[37m\u001b[0m \u001b[1m0s\u001b[0m 32ms/step\n",
      "\u001b[1m1/1\u001b[0m \u001b[32m━━━━━━━━━━━━━━━━━━━━\u001b[0m\u001b[37m\u001b[0m \u001b[1m0s\u001b[0m 35ms/step\n",
      "\u001b[1m1/1\u001b[0m \u001b[32m━━━━━━━━━━━━━━━━━━━━\u001b[0m\u001b[37m\u001b[0m \u001b[1m0s\u001b[0m 39ms/step\n",
      "\u001b[1m1/1\u001b[0m \u001b[32m━━━━━━━━━━━━━━━━━━━━\u001b[0m\u001b[37m\u001b[0m \u001b[1m0s\u001b[0m 25ms/step\n",
      "\u001b[1m1/1\u001b[0m \u001b[32m━━━━━━━━━━━━━━━━━━━━\u001b[0m\u001b[37m\u001b[0m \u001b[1m0s\u001b[0m 32ms/step\n",
      "\u001b[1m1/1\u001b[0m \u001b[32m━━━━━━━━━━━━━━━━━━━━\u001b[0m\u001b[37m\u001b[0m \u001b[1m0s\u001b[0m 36ms/step\n",
      "\u001b[1m1/1\u001b[0m \u001b[32m━━━━━━━━━━━━━━━━━━━━\u001b[0m\u001b[37m\u001b[0m \u001b[1m0s\u001b[0m 36ms/step\n",
      "\u001b[1m1/1\u001b[0m \u001b[32m━━━━━━━━━━━━━━━━━━━━\u001b[0m\u001b[37m\u001b[0m \u001b[1m0s\u001b[0m 39ms/step\n",
      "\u001b[1m1/1\u001b[0m \u001b[32m━━━━━━━━━━━━━━━━━━━━\u001b[0m\u001b[37m\u001b[0m \u001b[1m0s\u001b[0m 32ms/step\n",
      "\u001b[1m1/1\u001b[0m \u001b[32m━━━━━━━━━━━━━━━━━━━━\u001b[0m\u001b[37m\u001b[0m \u001b[1m0s\u001b[0m 32ms/step\n",
      "\u001b[1m1/1\u001b[0m \u001b[32m━━━━━━━━━━━━━━━━━━━━\u001b[0m\u001b[37m\u001b[0m \u001b[1m0s\u001b[0m 23ms/step\n",
      "\u001b[1m1/1\u001b[0m \u001b[32m━━━━━━━━━━━━━━━━━━━━\u001b[0m\u001b[37m\u001b[0m \u001b[1m0s\u001b[0m 27ms/step\n",
      "\u001b[1m1/1\u001b[0m \u001b[32m━━━━━━━━━━━━━━━━━━━━\u001b[0m\u001b[37m\u001b[0m \u001b[1m0s\u001b[0m 24ms/step\n",
      "\u001b[1m1/1\u001b[0m \u001b[32m━━━━━━━━━━━━━━━━━━━━\u001b[0m\u001b[37m\u001b[0m \u001b[1m0s\u001b[0m 22ms/step\n",
      "\u001b[1m1/1\u001b[0m \u001b[32m━━━━━━━━━━━━━━━━━━━━\u001b[0m\u001b[37m\u001b[0m \u001b[1m0s\u001b[0m 25ms/step\n",
      "\u001b[1m1/1\u001b[0m \u001b[32m━━━━━━━━━━━━━━━━━━━━\u001b[0m\u001b[37m\u001b[0m \u001b[1m0s\u001b[0m 30ms/step\n"
     ]
    }
   ],
   "source": [
    "img = Image.open(\"sudoku1.jpg\")\n",
    "img_arr = np.array(img)\n",
    "sudarr = Img2Arr.img2arr(img_arr)"
   ]
  },
  {
   "cell_type": "code",
   "execution_count": 6,
   "metadata": {},
   "outputs": [
    {
     "name": "stdout",
     "output_type": "stream",
     "text": [
      "{(0, 1): {1, 3, 9}, (0, 2): {1, 3, 8, 9}, (0, 3): {1, 9}, (0, 6): {3, 5, 8}, (0, 7): {3, 5}, (1, 0): {2, 3}, (1, 2): {1, 3, 7}, (1, 3): {1, 4}, (1, 4): {1, 2, 3}, (1, 6): {3, 6, 7}, (1, 7): {3, 7}, (2, 1): {3, 7, 9}, (2, 2): {3, 7, 8, 9}, (2, 3): {9}, (2, 4): {2, 3}, (2, 6): {3, 7, 8}, (3, 0): {3}, (3, 1): {1, 3, 4, 6, 7}, (3, 3): {1, 5, 7}, (3, 5): {1, 3, 6}, (3, 6): {1, 3, 4, 5, 7}, (3, 7): {1, 3, 5, 7}, (4, 0): {3, 9}, (4, 2): {1, 3, 4, 7, 9}, (4, 3): {1, 5, 7}, (4, 4): {1, 2, 3, 5, 7}, (4, 5): {1, 2, 3}, (4, 6): {1, 3, 4, 5, 7, 9}, (4, 8): {5, 7}, (5, 1): {1, 3, 6, 7, 9}, (5, 2): {1, 3, 6, 7, 9}, (5, 3): {1, 7, 8}, (5, 5): {1, 3, 6}, (5, 7): {1, 3, 7, 9}, (5, 8): {7}, (6, 2): {4, 5, 9}, (6, 4): {1, 5, 7}, (6, 5): {1, 4, 9}, (6, 6): {1, 5, 7, 9}, (6, 7): {1, 5, 7, 9}, (7, 1): {3, 4, 6, 9}, (7, 2): {3, 4, 5, 6, 9}, (7, 4): {5, 7}, (7, 5): {4, 9}, (7, 6): {5, 6, 7, 9}, (7, 8): {5, 6, 7}, (8, 1): {6, 9}, (8, 2): {5, 6, 9}, (8, 5): {1, 9}, (8, 6): {1, 5, 6, 9}, (8, 7): {1, 2, 5, 9}}\n"
     ]
    }
   ],
   "source": [
    "constraints = get_constraints(sudarr)\n",
    "print(constraints)"
   ]
  },
  {
   "cell_type": "code",
   "execution_count": 7,
   "metadata": {},
   "outputs": [
    {
     "name": "stdout",
     "output_type": "stream",
     "text": [
      "[[4 0 0 0 6 7 0 0 2]\n",
      " [0 5 0 0 0 8 0 0 9]\n",
      " [6 0 0 0 0 5 0 4 1]\n",
      " [0 0 2 0 9 0 0 0 8]\n",
      " [0 8 0 0 0 0 0 6 0]\n",
      " [5 0 0 0 4 0 2 0 0]\n",
      " [8 2 0 6 0 0 0 0 3]\n",
      " [1 0 0 2 0 0 0 8 0]\n",
      " [7 0 0 3 8 0 0 0 4]]\n"
     ]
    }
   ],
   "source": [
    "# Plot the fixed grid\n",
    "fixed_grid = np.copy(sudarr)\n",
    "print(fixed_grid)"
   ]
  },
  {
   "cell_type": "code",
   "execution_count": 16,
   "metadata": {},
   "outputs": [],
   "source": [
    "# Plot the constraints grid\n",
    "constraints_grid = [[0 for _ in range(9)] for _ in range(9)]\n",
    "for cell in constraints.keys():\n",
    "    constraints_grid[cell[0]][cell[1]] = constraints[cell]"
   ]
  },
  {
   "cell_type": "code",
   "execution_count": 17,
   "metadata": {},
   "outputs": [
    {
     "name": "stdout",
     "output_type": "stream",
     "text": [
      "[[0, {1, 3, 9}, {1, 3, 8, 9}, {1, 9}, 0, 0, {3, 5, 8}, {3, 5}, 0], [{2, 3}, 0, {1, 3, 7}, {1, 4}, {1, 2, 3}, 0, {3, 6, 7}, {3, 7}, 0], [0, {3, 7, 9}, {3, 7, 8, 9}, {9}, {2, 3}, 0, {3, 7, 8}, 0, 0], [{3}, {1, 3, 4, 6, 7}, 0, {1, 5, 7}, 0, {1, 3, 6}, {1, 3, 4, 5, 7}, {1, 3, 5, 7}, 0], [{3, 9}, 0, {1, 3, 4, 7, 9}, {1, 5, 7}, {1, 2, 3, 5, 7}, {1, 2, 3}, {1, 3, 4, 5, 7, 9}, 0, {5, 7}], [0, {1, 3, 6, 7, 9}, {1, 3, 6, 7, 9}, {1, 7, 8}, 0, {1, 3, 6}, 0, {1, 3, 7, 9}, {7}], [0, 0, {4, 5, 9}, 0, {1, 5, 7}, {1, 4, 9}, {1, 5, 7, 9}, {1, 5, 7, 9}, 0], [0, {3, 4, 6, 9}, {3, 4, 5, 6, 9}, 0, {5, 7}, {4, 9}, {5, 6, 7, 9}, 0, {5, 6, 7}], [0, {6, 9}, {5, 6, 9}, 0, 0, {1, 9}, {1, 5, 6, 9}, {1, 2, 5, 9}, 0]]\n"
     ]
    }
   ],
   "source": [
    "print(constraints_grid)"
   ]
  },
  {
   "cell_type": "code",
   "execution_count": 24,
   "metadata": {},
   "outputs": [
    {
     "data": {
      "image/png": "[encoded data removed]",
      "text/plain": [
       "<Figure size 2000x2000 with 1 Axes>"
      ]
     },
     "metadata": {},
     "output_type": "display_data"
    }
   ],
   "source": [
    "# Plot the constraint grid\n",
    "# if the particular element is 0, then it is a fixed element, else, display a cloud of possible values\n",
    "import matplotlib.pyplot as plt\n",
    "import matplotlib.patches as patches\n",
    "fig, ax = plt.subplots(figsize=(20, 20))\n",
    "for i in range(9):\n",
    "    for j in range(9):\n",
    "        if fixed_grid[i][j] != 0:\n",
    "            ax.add_patch(patches.Rectangle((j, i), 1, 1, edgecolor='green', facecolor='green'))\n",
    "        else:\n",
    "            ax.text(j + 0.5, i + 0.5, str(constraints_grid[i][j]), ha='center', va='center')\n",
    "ax.set_xlim(0, 9)\n",
    "ax.set_ylim(0, 9)\n",
    "ax.set_aspect('equal')\n",
    "ax.axis('off')\n",
    "plt.show()"
   ]
  },
  {
   "cell_type": "code",
   "execution_count": 47,
   "metadata": {},
   "outputs": [],
   "source": [
    "# Plt using plotly such that hovering over a cell shows the possible values\n",
    "import plotly.graph_objects as go\n",
    "fig = go.Figure()\n",
    "for i in range(9):\n",
    "    for j in range(9):\n",
    "        if fixed_grid[i][j] != 0:\n",
    "            # In a green coloured box, add the fixed value as text inside the box (i.e. the fixed value)\n",
    "            fig.add_trace(go.Scatter (x=[j, j + 1, j + 1, j, j], y=[i, i, i + 1, i + 1, i], fill='toself', mode='lines', fillcolor='lime', line=dict(color='black'), showlegend=False))\n",
    "            fig.add_trace(go.Scatter (x=[j + 0.5], y=[i + 0.5], text=str(fixed_grid[i][j]), mode='text', hovertext=str(\"I am Fixed!\"), hoverinfo='text', showlegend=False))\n",
    "\n",
    "        else:\n",
    "            # In a blue coloured box, add the possible values as text that are show on hover\n",
    "            fig.add_trace(go.Scatter (x=[j, j + 1, j + 1, j, j], y=[i, i, i + 1, i + 1, i], fill='toself', mode='lines', fillcolor='skyblue', line=dict(color='black'), showlegend=False))\n",
    "            fig.add_trace(go.Scatter (x=[j + 0.5], y=[i + 0.5], text=str(\"?\"), mode='text', hovertext=str(constraints_grid[i][j]), hoverinfo='text', showlegend=False))\n",
    "\n",
    "# Update layout and do not also show the indices\n",
    "fig.update_layout(width=800, height=800, showlegend=False, xaxis=dict(showticklabels=False), yaxis=dict(showticklabels=False))\n",
    "# Save\n",
    "fig.write_html(\"sudoku_constraints.html\")\n",
    "\n",
    "\n"
   ]
  },
  {
   "cell_type": "code",
   "execution_count": 55,
   "metadata": {},
   "outputs": [],
   "source": [
    "def plot_grid(fixed_grid, title, constraints_grid):\n",
    "    \"\"\"\n",
    "    Plot the grid with fixed values and the solution\n",
    "    \n",
    "    Parameters:\n",
    "    grid (list): A 9x9 array of integers\n",
    "    fixed_grid (list): A 9x9 array of integers with fixed values\n",
    "    title (str): The title of the plot\n",
    "    \"\"\"\n",
    "    \n",
    "    fig = go.Figure()\n",
    "    for i in range(9):\n",
    "        for j in range(9):\n",
    "            if fixed_grid[i][j] != 0:\n",
    "                # In a green coloured box, add the fixed value as text inside the box (i.e. the fixed value)\n",
    "                fig.add_trace(go.Scatter (x=[j, j + 1, j + 1, j, j], y=[i, i, i + 1, i + 1, i], fill='toself', mode='lines', fillcolor='lime', line=dict(color='black'), showlegend=False))\n",
    "                fig.add_trace(go.Scatter (x=[j + 0.5], y=[i + 0.5], text=str(fixed_grid[i][j]), mode='text', hovertext=str(\"I am Fixed!\"), hoverinfo='text', showlegend=False))\n",
    "\n",
    "            else:\n",
    "                # In a blue coloured box, add the possible values as text that are show on hover\n",
    "                fig.add_trace(go.Scatter (x=[j, j + 1, j + 1, j, j], y=[i, i, i + 1, i + 1, i], fill='toself', mode='lines', fillcolor='skyblue', line=dict(color='black'), showlegend=False))\n",
    "                fig.add_trace(go.Scatter (x=[j + 0.5], y=[i + 0.5], text=str(\"?\"), mode='text', hovertext=str(constraints_grid[i][j]), hoverinfo='text', showlegend=False))\n",
    "\n",
    "    # Update layout and do not also show the indices\n",
    "    fig.update_layout(width=800, height=800, showlegend=False, xaxis=dict(showticklabels=False), yaxis=dict(showticklabels=False))\n",
    "    fig.update_layout(title=title)\n",
    "\n",
    "    return fig"
   ]
  },
  {
   "cell_type": "code",
   "execution_count": 56,
   "metadata": {},
   "outputs": [],
   "source": [
    "# For all the steps in forward checking, store the grid and constraints in an array for iterations = number of zeros\n",
    "# This will help in creating a gif of the forward checking process\n",
    "\n",
    "\n",
    "# Forward checking\n",
    "iterations = sum([1 for row in sudarr for cell in row if cell == 0])\n",
    "\n",
    "# Store the grid and constraints for each iteration\n",
    "grids = [np.copy(sudarr)]\n",
    "constraints_list = [get_constraints(sudarr)]\n",
    "for i in range(iterations):\n",
    "    sudarr = forward_checking(sudarr, constraints, 1)\n",
    "    grids.append(np.copy(sudarr))\n",
    "    constraints_list.append(get_constraints(sudarr))\n",
    "\n",
    "    "
   ]
  },
  {
   "cell_type": "code",
   "execution_count": 57,
   "metadata": {},
   "outputs": [
    {
     "name": "stdout",
     "output_type": "stream",
     "text": [
      "1 1 0\n"
     ]
    }
   ],
   "source": [
    "print(len(grids), len(constraints_list), iterations)"
   ]
  },
  {
   "cell_type": "code",
   "execution_count": 58,
   "metadata": {},
   "outputs": [],
   "source": [
    "# Plot the fixed grid for the last iteration\n",
    "fixed_grid = grids[-1]\n",
    "constraints_grid = [[0 for _ in range(9)] for _ in range(9)]\n",
    "for cell in constraints_list[-1].keys():\n",
    "    constraints_grid[cell[0]][cell[1]] = constraints_list[-1][cell]\n",
    "\n",
    "fig = plot_grid(fixed_grid, \"Sudoku with Forward Checking in last iter\", constraints_grid)\n",
    "fig.write_html(\"sudoku_forward_checking.html\")"
   ]
  },
  {
   "cell_type": "code",
   "execution_count": null,
   "metadata": {},
   "outputs": [],
   "source": []
  }
 ],
 "metadata": {
  "kernelspec": {
   "display_name": "mnist",
   "language": "python",
   "name": "python3"
  },
  "language_info": {
   "codemirror_mode": {
    "name": "ipython",
    "version": 3
   },
   "file_extension": ".py",
   "mimetype": "text/x-python",
   "name": "python",
   "nbconvert_exporter": "python",
   "pygments_lexer": "ipython3",
   "version": "3.11.9"
  }
 },
 "nbformat": 4,
 "nbformat_minor": 2
}
